{
 "cells": [
  {
   "cell_type": "markdown",
   "metadata": {},
   "source": [
    "# Kamodofication Tutorial\n",
    "\n",
    "This tutorial focuses on building a Kamodofied model from scratch. To see the full implementation, skip down to the [Final-Implementation](#Final-Implementation)."
   ]
  },
  {
   "cell_type": "markdown",
   "metadata": {},
   "source": [
    "## Kamodofication requirements\n",
    "\n",
    "To Kamodofy models and data representing physical quantities, we need to define a set of functions representing the interpolation of each physical variable having the following properties:\n",
    "\n",
    "* A function name and arguments that follows kamodo's [Syntax](../Syntax/) conventions \n",
    "* Default arrays for input arguments\n",
    "* A meta attribute containing:\n",
    "    * 'units' - physical units of the values returned by the function\n",
    "    * 'citation' - How the model or data source should be cited\n",
    "    * 'equation' - LaTeX representation of this model/data source (if available)\n",
    "    * 'hidden_args' - A list of function arguments that should not be rendered\n",
    "* A data attribute - The array holding the variable (if available)\n",
    "* Any docstrings that provide further context"
   ]
  },
  {
   "cell_type": "markdown",
   "metadata": {},
   "source": [
    "## Model Reader Tutorial\n",
    "\n",
    "Model Readers load data from disk (or server) and provide methods for interpolation. We require that for each variable of interest, the model reader should provide at least one interpolation method that satisfies all of the above requirements. Each model reader will:\n",
    "\n",
    "1. Open/close files\n",
    "2. Manage state variables\n",
    "3. Initialize interpolators\n",
    "4. Kamodofy interpolators\n",
    "5. Register functions"
   ]
  },
  {
   "cell_type": "markdown",
   "metadata": {},
   "source": [
    "### Minimal Example: one variable"
   ]
  },
  {
   "cell_type": "code",
   "execution_count": 1,
   "metadata": {},
   "outputs": [
    {
     "name": "stderr",
     "output_type": "stream",
     "text": [
      "/Users/apembrok/git/kamodo/kamodo/readers/__init__.py:7: UserWarning:\n",
      "\n",
      "TIEGCM reader not installed\n",
      "\n"
     ]
    }
   ],
   "source": [
    "from kamodo import Kamodo, kamodofy, gridify\n",
    "from scipy.interpolate import RegularGridInterpolator\n",
    "import numpy as np\n",
    "import plotly.io as pio"
   ]
  },
  {
   "cell_type": "code",
   "execution_count": 2,
   "metadata": {},
   "outputs": [
    {
     "name": "stdout",
     "output_type": "stream",
     "text": [
      "opening myfile.dat\n"
     ]
    },
    {
     "data": {
      "text/latex": [
       "\\begin{equation}\\rho{\\left(\\vec{x} \\right)} [kg/m^3] = \\lambda{\\left(\\vec{x} \\right)}\\end{equation}"
      ],
      "text/plain": [
       "MyModel([(rho(xvec),\n",
       "          <function __main__.MyModel.__init__.<locals>.interpolator(xvec)>),\n",
       "         (rho,\n",
       "          <function __main__.MyModel.__init__.<locals>.interpolator(xvec)>)])"
      ]
     },
     "execution_count": 2,
     "metadata": {},
     "output_type": "execute_result"
    }
   ],
   "source": [
    "class MyModel(Kamodo): \n",
    "    def __init__(self, filename, **kwargs):\n",
    "        # perform any necessary I/O\n",
    "        print('opening {}'.format(filename))\n",
    "        self.filename = filename\n",
    "        self.missing_value = np.NAN\n",
    "        \n",
    "        # store any data needed for interpolation\n",
    "        self.x = np.linspace(1, 4, 11)\n",
    "        self.y = np.linspace(4, 7, 22)\n",
    "        self.z = np.linspace(7, 9, 33) \n",
    "        \n",
    "        xx, yy, zz = np.meshgrid(self.x, self.y, self.z, indexing='ij', sparse=True)\n",
    "        density_data = 2 * xx**3 + 3 * yy**2 - zz\n",
    "        \n",
    "        self.interpolator = RegularGridInterpolator((self.x, self.y, self.z), density_data, \n",
    "                                                    bounds_error = False,\n",
    "                                                   fill_value = self.missing_value)\n",
    "\n",
    "\n",
    "        \n",
    "        # Prepare model for function registration for the input argument\n",
    "        super(MyModel, self).__init__(**kwargs) \n",
    "        \n",
    "        # Wrap the interpolator with a nicer function signature\n",
    "        @kamodofy(units = 'kg/m^3')\n",
    "        def interpolator(xvec):\n",
    "            return self.interpolator(xvec)\n",
    "        \n",
    "        self['rho(xvec)'] = interpolator\n",
    "\n",
    "\n",
    "model = MyModel('myfile.dat')\n",
    "model"
   ]
  },
  {
   "cell_type": "markdown",
   "metadata": {},
   "source": [
    "we can call the registered function with multiple values, getting `nan` if out of bounds:"
   ]
  },
  {
   "cell_type": "code",
   "execution_count": 3,
   "metadata": {},
   "outputs": [
    {
     "data": {
      "text/plain": [
       "array([83.244,    nan])"
      ]
     },
     "execution_count": 3,
     "metadata": {},
     "output_type": "execute_result"
    }
   ],
   "source": [
    "model.rho([[2,5,8],\n",
    "           [0,0,0]])"
   ]
  },
  {
   "cell_type": "markdown",
   "metadata": {},
   "source": [
    "However, the registered function has no default parameters, so an error will be raised if we do not provide an argument."
   ]
  },
  {
   "cell_type": "code",
   "execution_count": 4,
   "metadata": {},
   "outputs": [
    {
     "name": "stdout",
     "output_type": "stream",
     "text": [
      "interpolator() missing 1 required positional argument: 'xvec'\n"
     ]
    }
   ],
   "source": [
    "try:\n",
    "    model.rho()\n",
    "except TypeError as m:\n",
    "    print(m)"
   ]
  },
  {
   "cell_type": "markdown",
   "metadata": {},
   "source": [
    "At this point, the end-user of the model cannot generate quick-look graphics:"
   ]
  },
  {
   "cell_type": "code",
   "execution_count": 5,
   "metadata": {},
   "outputs": [
    {
     "name": "stdout",
     "output_type": "stream",
     "text": [
      "interpolator() missing 1 required positional argument: 'xvec'[]\n"
     ]
    }
   ],
   "source": [
    "try:\n",
    "    model.plot('rho')\n",
    "except TypeError as m:\n",
    "    print(m)"
   ]
  },
  {
   "cell_type": "markdown",
   "metadata": {},
   "source": [
    "In order to generate any plots, the user must already know where they can place resolution. For example, they could inspect some of the attributes of the model and guess the size of the domain, then choose points from that space."
   ]
  },
  {
   "cell_type": "code",
   "execution_count": 6,
   "metadata": {},
   "outputs": [],
   "source": [
    "xx,yy,zz = np.meshgrid(model.x, model.y, model.z)\n",
    "points = np.column_stack([xx.ravel(),yy.ravel(),zz.ravel()])\n",
    "randints = np.random.randint(0,len(points), 1000)"
   ]
  },
  {
   "cell_type": "code",
   "execution_count": 7,
   "metadata": {},
   "outputs": [],
   "source": [
    "fig = model.plot(rho = dict(xvec = points[randints] ))"
   ]
  },
  {
   "cell_type": "code",
   "execution_count": 8,
   "metadata": {},
   "outputs": [],
   "source": [
    "pio.write_image(fig, 'images/kamodofied1.svg')"
   ]
  },
  {
   "cell_type": "markdown",
   "metadata": {},
   "source": [
    "![kamodofied1](images/kamodofied1.svg)"
   ]
  },
  {
   "cell_type": "markdown",
   "metadata": {},
   "source": [
    "Hopefully, the user doesn't choose points where the solution may be invalid. Next, we'll modify the original function to provide a griddable variable with default parameters."
   ]
  },
  {
   "cell_type": "markdown",
   "metadata": {},
   "source": [
    "## Including defaults\n",
    "\n",
    "The above example produced a kamodofied model with one variable, but we are unable to produce quick-look graphics, which required the user to inspect the model to guess where interpolation may be valid. Here we show how to include defaults so the user doesn't have to guess."
   ]
  },
  {
   "cell_type": "code",
   "execution_count": 9,
   "metadata": {},
   "outputs": [
    {
     "name": "stdout",
     "output_type": "stream",
     "text": [
      "opening myfile.dat\n"
     ]
    },
    {
     "data": {
      "text/latex": [
       "\\begin{equation}\\rho{\\left(x,y,z \\right)} [kg/m^3] = \\lambda{\\left(x,y,z \\right)}\\end{equation}"
      ],
      "text/plain": [
       "MyModel([(rho(x, y, z),\n",
       "          <function wrapped(x=array([1. , 1.3, 1.6, 1.9, 2.2, 2.5, 2.8, 3.1, 3.4, 3.7, 4. ]), y=array([4.        , 4.14285714, 4.28571429, 4.42857143, 4.57142857,\n",
       "       4.71428571, 4.85714286, 5.        , 5.14285714, 5.28571429,\n",
       "       5.42857143, 5.57142857, 5.71428571, 5.85714286, 6.        ,\n",
       "       6.14285714, 6.28571429, 6.42857143, 6.57142857, 6.71428571,\n",
       "       6.85714286, 7.        ]), z=array([7.    , 7.0625, 7.125 , 7.1875, 7.25  , 7.3125, 7.375 , 7.4375,\n",
       "       7.5   , 7.5625, 7.625 , 7.6875, 7.75  , 7.8125, 7.875 , 7.9375,\n",
       "       8.    , 8.0625, 8.125 , 8.1875, 8.25  , 8.3125, 8.375 , 8.4375,\n",
       "       8.5   , 8.5625, 8.625 , 8.6875, 8.75  , 8.8125, 8.875 , 8.9375,\n",
       "       9.    ]))>),\n",
       "         (rho,\n",
       "          <function wrapped(x=array([1. , 1.3, 1.6, 1.9, 2.2, 2.5, 2.8, 3.1, 3.4, 3.7, 4. ]), y=array([4.        , 4.14285714, 4.28571429, 4.42857143, 4.57142857,\n",
       "       4.71428571, 4.85714286, 5.        , 5.14285714, 5.28571429,\n",
       "       5.42857143, 5.57142857, 5.71428571, 5.85714286, 6.        ,\n",
       "       6.14285714, 6.28571429, 6.42857143, 6.57142857, 6.71428571,\n",
       "       6.85714286, 7.        ]), z=array([7.    , 7.0625, 7.125 , 7.1875, 7.25  , 7.3125, 7.375 , 7.4375,\n",
       "       7.5   , 7.5625, 7.625 , 7.6875, 7.75  , 7.8125, 7.875 , 7.9375,\n",
       "       8.    , 8.0625, 8.125 , 8.1875, 8.25  , 8.3125, 8.375 , 8.4375,\n",
       "       8.5   , 8.5625, 8.625 , 8.6875, 8.75  , 8.8125, 8.875 , 8.9375,\n",
       "       9.    ]))>)])"
      ]
     },
     "execution_count": 9,
     "metadata": {},
     "output_type": "execute_result"
    }
   ],
   "source": [
    "class MyModel(Kamodo): \n",
    "    def __init__(self, filename, **kwargs):\n",
    "        # perform any necessary I/O\n",
    "        print('opening {}'.format(filename))\n",
    "        self.filename = filename\n",
    "        self.missing_value = np.NAN\n",
    "        \n",
    "        # store any data needed for interpolation\n",
    "        self.x = np.linspace(1, 4, 11)\n",
    "        self.y = np.linspace(4, 7, 22)\n",
    "        self.z = np.linspace(7, 9, 33) \n",
    "        \n",
    "        xx, yy, zz = np.meshgrid(self.x, self.y, self.z, indexing='ij', sparse=True)\n",
    "        density_data = 2 * xx**3 + 3 * yy**2 - zz\n",
    "        \n",
    "        self.interpolator = RegularGridInterpolator((self.x, self.y, self.z), density_data, \n",
    "                                                    bounds_error = False,\n",
    "                                                   fill_value = self.missing_value)\n",
    "\n",
    "\n",
    "        \n",
    "        # Prepare model for function registration for the input argument\n",
    "        super(MyModel, self).__init__(**kwargs) \n",
    "        \n",
    "        # Wrap the interpolator with a nicer function signature\n",
    "        @kamodofy(units = 'kg/m^3')\n",
    "        @gridify(x = self.x, y = self.y, z = self.z) # <--- The only change to the model\n",
    "        def interpolator(xvec):\n",
    "            return self.interpolator(xvec)\n",
    "        \n",
    "        self['rho'] = interpolator\n",
    "        \n",
    "\n",
    "model = MyModel('myfile.dat')\n",
    "model"
   ]
  },
  {
   "cell_type": "markdown",
   "metadata": {},
   "source": [
    "By adding the `@gridify` line, we have modified the original function to be one that generates gridded data. Moreover, the variable now has default parameters."
   ]
  },
  {
   "cell_type": "code",
   "execution_count": 10,
   "metadata": {},
   "outputs": [
    {
     "data": {
      "text/plain": [
       "(22, 11, 33)"
      ]
     },
     "execution_count": 10,
     "metadata": {},
     "output_type": "execute_result"
    }
   ],
   "source": [
    "model.rho().shape"
   ]
  },
  {
   "cell_type": "markdown",
   "metadata": {},
   "source": [
    "We can now specify one or more arguments to get a plane mapping of the solution."
   ]
  },
  {
   "cell_type": "code",
   "execution_count": 11,
   "metadata": {},
   "outputs": [
    {
     "data": {
      "text/plain": [
       "(22, 11, 1)"
      ]
     },
     "execution_count": 11,
     "metadata": {},
     "output_type": "execute_result"
    }
   ],
   "source": [
    "model.rho(z = 8).shape"
   ]
  },
  {
   "cell_type": "markdown",
   "metadata": {},
   "source": [
    "But how do we know to choose the plane `z=8` for a valid solution? We can use kamodo's function inspection to get the default ranges for each parameter."
   ]
  },
  {
   "cell_type": "code",
   "execution_count": 12,
   "metadata": {},
   "outputs": [],
   "source": [
    "from kamodo import get_defaults"
   ]
  },
  {
   "cell_type": "code",
   "execution_count": 13,
   "metadata": {},
   "outputs": [
    {
     "data": {
      "text/plain": [
       "8.0"
      ]
     },
     "execution_count": 13,
     "metadata": {},
     "output_type": "execute_result"
    }
   ],
   "source": [
    "get_defaults(model.rho)['z'].mean()"
   ]
  },
  {
   "cell_type": "markdown",
   "metadata": {},
   "source": [
    "## Final Implementation\n",
    "\n",
    "In the final implementation of our model reader, we include multiple variables with different function signatures. Here, the gridded solutions have suffixes `_ijk` to emphasize their structure. This allows more flexibility for the end user."
   ]
  },
  {
   "cell_type": "code",
   "execution_count": 8,
   "metadata": {},
   "outputs": [
    {
     "name": "stdout",
     "output_type": "stream",
     "text": [
      "opening myfile.dat\n"
     ]
    },
    {
     "data": {
      "text/latex": [
       "\\begin{equation}\\rho{\\left(\\vec{x} \\right)} [kg/m^3] = \\lambda{\\left(\\vec{x} \\right)}\\end{equation}\\begin{equation}\\rho_{ijk}{\\left(x_{i},y_{j},z_{k} \\right)} [kg/m^3] = \\lambda{\\left(x_{i},y_{j},z_{k} \\right)}\\end{equation}\\begin{equation}P{\\left(\\vec{x} \\right)} [nPa] = \\lambda{\\left(\\vec{x} \\right)}\\end{equation}\\begin{equation}\\operatorname{P_{ijk}}{\\left(x_{i},y_{j},z_{k} \\right)} [nPa] = \\lambda{\\left(x_{i},y_{j},z_{k} \\right)}\\end{equation}"
      ],
      "text/plain": [
       "MyModel([(rho(xvec),\n",
       "          <function __main__.MyModel.register_variable.<locals>.interpolate(xvec)>),\n",
       "         (rho,\n",
       "          <function __main__.MyModel.register_variable.<locals>.interpolate(xvec)>),\n",
       "         (rho_ijk(x_i, y_j, z_k),\n",
       "          <function wrapped(x_i=array([1. , 1.3, 1.6, 1.9, 2.2, 2.5, 2.8, 3.1, 3.4, 3.7, 4. ]), y_j=array([4.        , 4.14285714, 4.28571429, 4.42857143, 4.57142857,\n",
       "       4.71428571, 4.85714286, 5.        , 5.14285714, 5.28571429,\n",
       "       5.42857143, 5.57142857, 5.71428571, 5.85714286, 6.        ,\n",
       "       6.14285714, 6.28571429, 6.42857143, 6.57142857, 6.71428571,\n",
       "       6.85714286, 7.        ]), z_k=array([7.    , 7.0625, 7.125 , 7.1875, 7.25  , 7.3125, 7.375 , 7.4375,\n",
       "       7.5   , 7.5625, 7.625 , 7.6875, 7.75  , 7.8125, 7.875 , 7.9375,\n",
       "       8.    , 8.0625, 8.125 , 8.1875, 8.25  , 8.3125, 8.375 , 8.4375,\n",
       "       8.5   , 8.5625, 8.625 , 8.6875, 8.75  , 8.8125, 8.875 , 8.9375,\n",
       "       9.    ]))>),\n",
       "         (rho_ijk,\n",
       "          <function wrapped(x_i=array([1. , 1.3, 1.6, 1.9, 2.2, 2.5, 2.8, 3.1, 3.4, 3.7, 4. ]), y_j=array([4.        , 4.14285714, 4.28571429, 4.42857143, 4.57142857,\n",
       "       4.71428571, 4.85714286, 5.        , 5.14285714, 5.28571429,\n",
       "       5.42857143, 5.57142857, 5.71428571, 5.85714286, 6.        ,\n",
       "       6.14285714, 6.28571429, 6.42857143, 6.57142857, 6.71428571,\n",
       "       6.85714286, 7.        ]), z_k=array([7.    , 7.0625, 7.125 , 7.1875, 7.25  , 7.3125, 7.375 , 7.4375,\n",
       "       7.5   , 7.5625, 7.625 , 7.6875, 7.75  , 7.8125, 7.875 , 7.9375,\n",
       "       8.    , 8.0625, 8.125 , 8.1875, 8.25  , 8.3125, 8.375 , 8.4375,\n",
       "       8.5   , 8.5625, 8.625 , 8.6875, 8.75  , 8.8125, 8.875 , 8.9375,\n",
       "       9.    ]))>),\n",
       "         (P(xvec),\n",
       "          <function __main__.MyModel.register_variable.<locals>.interpolate(xvec)>),\n",
       "         (P,\n",
       "          <function __main__.MyModel.register_variable.<locals>.interpolate(xvec)>),\n",
       "         (P_ijk(x_i, y_j, z_k),\n",
       "          <function wrapped(x_i=array([1. , 1.3, 1.6, 1.9, 2.2, 2.5, 2.8, 3.1, 3.4, 3.7, 4. ]), y_j=array([4.        , 4.14285714, 4.28571429, 4.42857143, 4.57142857,\n",
       "       4.71428571, 4.85714286, 5.        , 5.14285714, 5.28571429,\n",
       "       5.42857143, 5.57142857, 5.71428571, 5.85714286, 6.        ,\n",
       "       6.14285714, 6.28571429, 6.42857143, 6.57142857, 6.71428571,\n",
       "       6.85714286, 7.        ]), z_k=array([7.    , 7.0625, 7.125 , 7.1875, 7.25  , 7.3125, 7.375 , 7.4375,\n",
       "       7.5   , 7.5625, 7.625 , 7.6875, 7.75  , 7.8125, 7.875 , 7.9375,\n",
       "       8.    , 8.0625, 8.125 , 8.1875, 8.25  , 8.3125, 8.375 , 8.4375,\n",
       "       8.5   , 8.5625, 8.625 , 8.6875, 8.75  , 8.8125, 8.875 , 8.9375,\n",
       "       9.    ]))>),\n",
       "         (P_ijk,\n",
       "          <function wrapped(x_i=array([1. , 1.3, 1.6, 1.9, 2.2, 2.5, 2.8, 3.1, 3.4, 3.7, 4. ]), y_j=array([4.        , 4.14285714, 4.28571429, 4.42857143, 4.57142857,\n",
       "       4.71428571, 4.85714286, 5.        , 5.14285714, 5.28571429,\n",
       "       5.42857143, 5.57142857, 5.71428571, 5.85714286, 6.        ,\n",
       "       6.14285714, 6.28571429, 6.42857143, 6.57142857, 6.71428571,\n",
       "       6.85714286, 7.        ]), z_k=array([7.    , 7.0625, 7.125 , 7.1875, 7.25  , 7.3125, 7.375 , 7.4375,\n",
       "       7.5   , 7.5625, 7.625 , 7.6875, 7.75  , 7.8125, 7.875 , 7.9375,\n",
       "       8.    , 8.0625, 8.125 , 8.1875, 8.25  , 8.3125, 8.375 , 8.4375,\n",
       "       8.5   , 8.5625, 8.625 , 8.6875, 8.75  , 8.8125, 8.875 , 8.9375,\n",
       "       9.    ]))>)])"
      ]
     },
     "execution_count": 8,
     "metadata": {},
     "output_type": "execute_result"
    }
   ],
   "source": [
    "class MyModel(Kamodo): \n",
    "    def __init__(self, filename, **kwargs):\n",
    "        # perform any necessary I/O\n",
    "        print('opening {}'.format(filename))\n",
    "        self.filename = filename\n",
    "        self.missing_value = np.NAN\n",
    "        \n",
    "        # store any data needed for interpolation\n",
    "        self.x = np.linspace(1, 4, 11)\n",
    "        self.y = np.linspace(4, 7, 22)\n",
    "        self.z = np.linspace(7, 9, 33)        \n",
    "        xx, yy, zz = np.meshgrid(self.x, self.y, self.z, indexing='ij', sparse=True)\n",
    "        density_data = 2 * xx**3 + 3 * yy**2 - zz\n",
    "        pressure_data = xx**2 + yy**2 + zz**2\n",
    "        \n",
    "        \n",
    "        self.variables = dict(rho = dict(units = 'kg/m^3', data = density_data),\n",
    "                              P = dict(units = 'nPa', data = pressure_data))\n",
    "\n",
    "        # Prepare model for function registration\n",
    "        super(MyModel, self).__init__(**kwargs) \n",
    "        \n",
    "        for varname in self.variables:\n",
    "            units = self.variables[varname]['units']\n",
    "            self.register_variable(varname, units)\n",
    "            \n",
    "    def register_variable(self, varname, units):\n",
    "        interpolator = self.get_grid_interpolator(varname)\n",
    "        \n",
    "        # store the interpolator\n",
    "        self.variables[varname]['interpolator'] = interpolator\n",
    "\n",
    "        def interpolate(xvec):  \n",
    "            return self.variables[varname]['interpolator'](xvec)\n",
    "\n",
    "        # update docstring for this variable\n",
    "        interpolate.__doc__ = \"A function that returns {} in [{}].\".format(varname,units)\n",
    "\n",
    "        self[varname] = kamodofy(interpolate, \n",
    "                           units = units, \n",
    "                           citation = \"Pembroke et al 2019\",\n",
    "                          data = None)\n",
    "        self[varname + '_ijk'] = kamodofy(gridify(self[varname], \n",
    "                                                  x_i = self.x, \n",
    "                                                  y_j = self.y, \n",
    "                                                  z_k = self.z),\n",
    "                            units = units,\n",
    "                            citation = \"Pembroke et al 2019\",\n",
    "                            data = self.variables[varname]['data'])\n",
    "        \n",
    "            \n",
    "    def get_grid_interpolator(self, varname):\n",
    "        \"\"\"create a regulard grid interpolator for this variable\"\"\"\n",
    "        data =  self.variables[varname]['data']\n",
    "\n",
    "        interpolator = RegularGridInterpolator((self.x, self.y, self.z), data, \n",
    "                                                bounds_error = False,\n",
    "                                               fill_value = self.missing_value)\n",
    "        return interpolator\n",
    "            \n",
    "\n",
    "model = MyModel('myfile.dat')\n",
    "model"
   ]
  },
  {
   "cell_type": "code",
   "execution_count": 14,
   "metadata": {},
   "outputs": [
    {
     "data": {
      "text/plain": [
       "array(83.244)"
      ]
     },
     "execution_count": 14,
     "metadata": {},
     "output_type": "execute_result"
    }
   ],
   "source": [
    "model.rho((2,5,8))"
   ]
  },
  {
   "cell_type": "code",
   "execution_count": 15,
   "metadata": {},
   "outputs": [
    {
     "data": {
      "text/plain": [
       "array(93.02)"
      ]
     },
     "execution_count": 15,
     "metadata": {},
     "output_type": "execute_result"
    }
   ],
   "source": [
    "model.P((2,5,8))"
   ]
  },
  {
   "cell_type": "code",
   "execution_count": 11,
   "metadata": {},
   "outputs": [
    {
     "data": {
      "text/html": [
       "<div>\n",
       "<style scoped>\n",
       "    .dataframe tbody tr th:only-of-type {\n",
       "        vertical-align: middle;\n",
       "    }\n",
       "\n",
       "    .dataframe tbody tr th {\n",
       "        vertical-align: top;\n",
       "    }\n",
       "\n",
       "    .dataframe thead th {\n",
       "        text-align: right;\n",
       "    }\n",
       "</style>\n",
       "<table border=\"1\" class=\"dataframe\">\n",
       "  <thead>\n",
       "    <tr style=\"text-align: right;\">\n",
       "      <th></th>\n",
       "      <th>lhs</th>\n",
       "      <th>rhs</th>\n",
       "      <th>symbol</th>\n",
       "      <th>units</th>\n",
       "    </tr>\n",
       "  </thead>\n",
       "  <tbody>\n",
       "    <tr>\n",
       "      <th>rho(xvec)</th>\n",
       "      <td>rho</td>\n",
       "      <td>None</td>\n",
       "      <td>rho(xvec)</td>\n",
       "      <td>kg/m^3</td>\n",
       "    </tr>\n",
       "    <tr>\n",
       "      <th>rho_ijk(x_i, y_j, z_k)</th>\n",
       "      <td>rho_ijk</td>\n",
       "      <td>None</td>\n",
       "      <td>rho_ijk(x_i, y_j, z_k)</td>\n",
       "      <td>kg/m^3</td>\n",
       "    </tr>\n",
       "    <tr>\n",
       "      <th>P(xvec)</th>\n",
       "      <td>P</td>\n",
       "      <td>None</td>\n",
       "      <td>P(xvec)</td>\n",
       "      <td>nPa</td>\n",
       "    </tr>\n",
       "    <tr>\n",
       "      <th>P_ijk(x_i, y_j, z_k)</th>\n",
       "      <td>P_ijk</td>\n",
       "      <td>None</td>\n",
       "      <td>P_ijk(x_i, y_j, z_k)</td>\n",
       "      <td>nPa</td>\n",
       "    </tr>\n",
       "  </tbody>\n",
       "</table>\n",
       "</div>"
      ],
      "text/plain": [
       "                            lhs   rhs                  symbol   units\n",
       "rho(xvec)                   rho  None               rho(xvec)  kg/m^3\n",
       "rho_ijk(x_i, y_j, z_k)  rho_ijk  None  rho_ijk(x_i, y_j, z_k)  kg/m^3\n",
       "P(xvec)                       P  None                 P(xvec)     nPa\n",
       "P_ijk(x_i, y_j, z_k)      P_ijk  None    P_ijk(x_i, y_j, z_k)     nPa"
      ]
     },
     "execution_count": 11,
     "metadata": {},
     "output_type": "execute_result"
    }
   ],
   "source": [
    "model.detail()"
   ]
  },
  {
   "cell_type": "markdown",
   "metadata": {},
   "source": [
    "Here the `@kamodofy` decorator handles the provisioning of kamodo-specific metadata. For example, the declared function `rho` now has a `meta` attribute:"
   ]
  },
  {
   "cell_type": "code",
   "execution_count": 16,
   "metadata": {},
   "outputs": [
    {
     "data": {
      "text/plain": [
       "{'units': 'kg/m^3',\n",
       " 'citation': 'Pembroke et al 2019',\n",
       " 'equation': None,\n",
       " 'hidden_args': []}"
      ]
     },
     "execution_count": 16,
     "metadata": {},
     "output_type": "execute_result"
    }
   ],
   "source": [
    "model.rho.meta"
   ]
  },
  {
   "cell_type": "markdown",
   "metadata": {},
   "source": [
    "`@kamodofy` also adds the data attribute, by calling the function with its default parameters:"
   ]
  },
  {
   "cell_type": "code",
   "execution_count": 22,
   "metadata": {},
   "outputs": [
    {
     "data": {
      "text/plain": [
       "(11, 22, 33)"
      ]
     },
     "execution_count": 22,
     "metadata": {},
     "output_type": "execute_result"
    }
   ],
   "source": [
    "model.rho_ijk.data.shape"
   ]
  },
  {
   "cell_type": "markdown",
   "metadata": {},
   "source": [
    "## Combined models"
   ]
  },
  {
   "cell_type": "markdown",
   "metadata": {},
   "source": [
    "We could also register the model's interpolating method as part of some other Kamodo object, such as another kamodofied model reader or data source:"
   ]
  },
  {
   "cell_type": "code",
   "execution_count": 74,
   "metadata": {},
   "outputs": [
    {
     "data": {
      "text/latex": [
       "\\begin{equation}\\rho{\\left(\\vec{x} \\right)} [kg/m^3] = \\lambda{\\left(\\vec{x} \\right)}\\end{equation}"
      ],
      "text/plain": [
       "Kamodo([(rho(xvec),\n",
       "         <function __main__.MyModel.__init__.<locals>.interpolate(xvec)>),\n",
       "        (rho,\n",
       "         <function __main__.MyModel.__init__.<locals>.interpolate(xvec)>)])"
      ]
     },
     "execution_count": 74,
     "metadata": {},
     "output_type": "execute_result"
    }
   ],
   "source": [
    "from kamodo import Kamodo\n",
    "kamodo = Kamodo(rho = model.rho)\n",
    "kamodo"
   ]
  },
  {
   "cell_type": "markdown",
   "metadata": {},
   "source": [
    "We can now compose our density function with expressions defined by other models:"
   ]
  },
  {
   "cell_type": "code",
   "execution_count": 75,
   "metadata": {},
   "outputs": [
    {
     "data": {
      "text/latex": [
       "\\begin{equation}\\rho{\\left(\\vec{x} \\right)} [kg/m^3] = \\lambda{\\left(\\vec{x} \\right)}\\end{equation}\\begin{equation}\\operatorname{vol}{\\left(x,y \\right)} [cm^3] = \\frac{4 \\pi \\left(x^{2} + y^{2}\\right)^{\\frac{3}{2}}}{3}\\end{equation}\\begin{equation}\\operatorname{mass}{\\left(x,\\vec{x},y \\right)} [g] = \\frac{\\rho{\\left(\\vec{x} \\right)} \\operatorname{vol}{\\left(x,y \\right)}}{1000}\\end{equation}"
      ],
      "text/plain": [
       "Kamodo([(rho(xvec),\n",
       "         <function __main__.MyModel.__init__.<locals>.interpolate(xvec)>),\n",
       "        (rho, <function __main__.MyModel.__init__.<locals>.interpolate(xvec)>),\n",
       "        (vol(x, y), <function _lambdifygenerated(x, y)>),\n",
       "        (vol, <function _lambdifygenerated(x, y)>),\n",
       "        (mass(x, xvec, y), <function _lambdifygenerated(x, xvec, y)>),\n",
       "        (mass, <function _lambdifygenerated(x, xvec, y)>)])"
      ]
     },
     "execution_count": 75,
     "metadata": {},
     "output_type": "execute_result"
    }
   ],
   "source": [
    "kamodo['vol [cm^3]'] = '4/3 * pi * (x**2 + y**2)**(3/2)'\n",
    "kamodo['mass [g]'] = 'rho*vol'\n",
    "kamodo"
   ]
  },
  {
   "cell_type": "code",
   "execution_count": 76,
   "metadata": {},
   "outputs": [
    {
     "data": {
      "text/html": [
       "<div>\n",
       "<style scoped>\n",
       "    .dataframe tbody tr th:only-of-type {\n",
       "        vertical-align: middle;\n",
       "    }\n",
       "\n",
       "    .dataframe tbody tr th {\n",
       "        vertical-align: top;\n",
       "    }\n",
       "\n",
       "    .dataframe thead th {\n",
       "        text-align: right;\n",
       "    }\n",
       "</style>\n",
       "<table border=\"1\" class=\"dataframe\">\n",
       "  <thead>\n",
       "    <tr style=\"text-align: right;\">\n",
       "      <th></th>\n",
       "      <th>lhs</th>\n",
       "      <th>rhs</th>\n",
       "      <th>symbol</th>\n",
       "      <th>units</th>\n",
       "    </tr>\n",
       "  </thead>\n",
       "  <tbody>\n",
       "    <tr>\n",
       "      <th>rho(xvec)</th>\n",
       "      <td>rho</td>\n",
       "      <td>None</td>\n",
       "      <td>rho(xvec)</td>\n",
       "      <td>kg/m^3</td>\n",
       "    </tr>\n",
       "    <tr>\n",
       "      <th>vol(x, y)</th>\n",
       "      <td>vol</td>\n",
       "      <td>4*pi*(x**2 + y**2)**(3/2)/3</td>\n",
       "      <td>vol(x, y)</td>\n",
       "      <td>cm^3</td>\n",
       "    </tr>\n",
       "    <tr>\n",
       "      <th>mass(x, xvec, y)</th>\n",
       "      <td>mass</td>\n",
       "      <td>rho(xvec)*vol(x, y)/1000</td>\n",
       "      <td>mass(x, xvec, y)</td>\n",
       "      <td>g</td>\n",
       "    </tr>\n",
       "  </tbody>\n",
       "</table>\n",
       "</div>"
      ],
      "text/plain": [
       "                   lhs                          rhs            symbol   units\n",
       "rho(xvec)          rho                         None         rho(xvec)  kg/m^3\n",
       "vol(x, y)          vol  4*pi*(x**2 + y**2)**(3/2)/3         vol(x, y)    cm^3\n",
       "mass(x, xvec, y)  mass     rho(xvec)*vol(x, y)/1000  mass(x, xvec, y)       g"
      ]
     },
     "execution_count": 76,
     "metadata": {},
     "output_type": "execute_result"
    }
   ],
   "source": [
    "kamodo.detail()"
   ]
  },
  {
   "cell_type": "markdown",
   "metadata": {},
   "source": [
    "The following lines will save the image to your working directory.\n",
    "\n",
    "!!! note\n",
    "    Saving images requires `plotly-orca-1.2.1`, available through conda: ```conda install -c plotly plotly-orca```"
   ]
  },
  {
   "cell_type": "code",
   "execution_count": 57,
   "metadata": {},
   "outputs": [
    {
     "data": {
      "text/plain": [
       "(22, 11, 33)"
      ]
     },
     "execution_count": 57,
     "metadata": {},
     "output_type": "execute_result"
    }
   ],
   "source": [
    "model.rho_ijk().shape"
   ]
  },
  {
   "cell_type": "code",
   "execution_count": 58,
   "metadata": {},
   "outputs": [],
   "source": [
    "import plotly.io as pio\n",
    "fig = model.plot(rho_ijk = dict(z_k = model.z.mean()))"
   ]
  },
  {
   "cell_type": "code",
   "execution_count": 59,
   "metadata": {},
   "outputs": [],
   "source": [
    "from plotly.offline import iplot, init_notebook_mode, plot"
   ]
  },
  {
   "cell_type": "code",
   "execution_count": 60,
   "metadata": {},
   "outputs": [
    {
     "data": {
      "text/html": [
       "        <script type=\"text/javascript\">\n",
       "        window.PlotlyConfig = {MathJaxConfig: 'local'};\n",
       "        if (window.MathJax) {MathJax.Hub.Config({SVG: {font: \"STIX-Web\"}});}\n",
       "        if (typeof require !== 'undefined') {\n",
       "        require.undef(\"plotly\");\n",
       "        requirejs.config({\n",
       "            paths: {\n",
       "                'plotly': ['https://cdn.plot.ly/plotly-latest.min']\n",
       "            }\n",
       "        });\n",
       "        require(['plotly'], function(Plotly) {\n",
       "            window._Plotly = Plotly;\n",
       "        });\n",
       "        }\n",
       "        </script>\n",
       "        "
      ]
     },
     "metadata": {},
     "output_type": "display_data"
    }
   ],
   "source": [
    "init_notebook_mode(connected = True)"
   ]
  },
  {
   "cell_type": "code",
   "execution_count": 69,
   "metadata": {},
   "outputs": [],
   "source": [
    "fig = model.plot(rho_ijk =  dict(z_k = [model.z.mean()]))"
   ]
  },
  {
   "cell_type": "code",
   "execution_count": 70,
   "metadata": {},
   "outputs": [],
   "source": [
    "pio.write_image(fig, 'kamodofied_model_1.svg', validate = False)"
   ]
  },
  {
   "cell_type": "markdown",
   "metadata": {},
   "source": [
    "We use markdown to embed the image into the notebook.\n",
    "![Kamodofied Density](kamodofied_model_1.svg?5)"
   ]
  },
  {
   "cell_type": "markdown",
   "metadata": {},
   "source": [
    "Alternative ways to graph:"
   ]
  },
  {
   "cell_type": "code",
   "execution_count": null,
   "metadata": {},
   "outputs": [],
   "source": [
    "## uncomment to open interactive plot in the notebook\n",
    "# from plotly.offline import init_notebook_mode, iplot\n",
    "# init_notebook_mode(connected = True)\n",
    "# iplot(kamodo.plot(rho = dict(x = model.x.mean()))) "
   ]
  },
  {
   "cell_type": "code",
   "execution_count": null,
   "metadata": {},
   "outputs": [],
   "source": [
    "# # uncomment to open interactive plot in separate tab\n",
    "# from plotly.offline import plot\n",
    "# plot(kamodo.plot(rho = dict(z = 8))) "
   ]
  },
  {
   "cell_type": "code",
   "execution_count": 1,
   "metadata": {},
   "outputs": [],
   "source": [
    "%load_ext autoreload\n",
    "\n",
    "%autoreload 2"
   ]
  }
 ],
 "metadata": {
  "kernelspec": {
   "display_name": "Python 3",
   "language": "python",
   "name": "python3"
  },
  "language_info": {
   "codemirror_mode": {
    "name": "ipython",
    "version": 3
   },
   "file_extension": ".py",
   "mimetype": "text/x-python",
   "name": "python",
   "nbconvert_exporter": "python",
   "pygments_lexer": "ipython3",
   "version": "3.7.3"
  }
 },
 "nbformat": 4,
 "nbformat_minor": 2
}
