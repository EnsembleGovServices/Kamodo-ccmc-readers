{
 "cells": [
  {
   "cell_type": "markdown",
   "metadata": {},
   "source": [
    "## Overview\n",
    "\n",
    "Kamodo provides a *functional* interface for space weather analysis, visualization, and knowledge discovery, allowing many problems in scientific data analysis to be posed in terms of function composition and evaluation. We'll walk through its general features here."
   ]
  },
  {
   "cell_type": "markdown",
   "metadata": {},
   "source": [
    "##  Kamodo objects\n",
    "\n",
    "Users primarily interact with models and data through Kamodo objects. "
   ]
  },
  {
   "cell_type": "code",
   "execution_count": 1,
   "metadata": {},
   "outputs": [],
   "source": [
    "from kamodo import Kamodo"
   ]
  },
  {
   "cell_type": "markdown",
   "metadata": {},
   "source": [
    "### Function registration\n",
    "Kamodo objects are essentially python dictionaries storing variable symbols as keys and their interpolating functions as values. New functions may be registered either at the initialization of the Kamodo object or later using dictionary bracket syntax."
   ]
  },
  {
   "cell_type": "code",
   "execution_count": 2,
   "metadata": {},
   "outputs": [
    {
     "data": {
      "text/latex": [
       "\\begin{equation}x{\\left(t \\right)} = t^{2}\\end{equation}\\begin{equation}g{\\left(y \\right)} = y - 1\\end{equation}"
      ],
      "text/plain": [
       "Kamodo([(x(t), <function _lambdifygenerated(t)>),\n",
       "        (x, <function _lambdifygenerated(t)>),\n",
       "        (g(y), <function _lambdifygenerated(y)>),\n",
       "        (g, <function _lambdifygenerated(y)>)])"
      ]
     },
     "execution_count": 2,
     "metadata": {},
     "output_type": "execute_result"
    }
   ],
   "source": [
    "kamodo = Kamodo('$x = t^2$')\n",
    "kamodo['g'] = 'y-1'\n",
    "kamodo"
   ]
  },
  {
   "cell_type": "markdown",
   "metadata": {},
   "source": [
    "### Function composition\n",
    "Kamodo automatically composes functions through specifying on the right-hand-side."
   ]
  },
  {
   "cell_type": "code",
   "execution_count": 3,
   "metadata": {},
   "outputs": [
    {
     "data": {
      "text/latex": [
       "\\begin{equation}x{\\left(t \\right)} = t^{2}\\end{equation}\\begin{equation}g{\\left(y \\right)} = y - 1\\end{equation}\\begin{equation}f{\\left(t \\right)} = g{\\left(x{\\left(t \\right)} \\right)}\\end{equation}"
      ],
      "text/plain": [
       "Kamodo([(x(t), <function _lambdifygenerated(t)>),\n",
       "        (x, <function _lambdifygenerated(t)>),\n",
       "        (g(y), <function _lambdifygenerated(y)>),\n",
       "        (g, <function _lambdifygenerated(y)>),\n",
       "        (f(t), <function _lambdifygenerated(t)>),\n",
       "        (f, <function _lambdifygenerated(t)>)])"
      ]
     },
     "execution_count": 3,
     "metadata": {},
     "output_type": "execute_result"
    }
   ],
   "source": [
    "kamodo['f'] = 'g(x)'\n",
    "kamodo"
   ]
  },
  {
   "cell_type": "markdown",
   "metadata": {},
   "source": [
    "Here we have defined two functions $x(t)$, $g(y)$, and the composition $g∘f$. Kamodo was able to determine that $f$ is implicitly a function of $t$ even though we did not say so in $f$'s declaration."
   ]
  },
  {
   "cell_type": "markdown",
   "metadata": {},
   "source": [
    "#### Function evaluation\n",
    "Kamodo uses sympy's ```lambdify``` function to turn the above equations into highly optimized functions for numerical evaluation. We may evaluate $f(t)$ for $t=3$ using \"dot\" notation:"
   ]
  },
  {
   "cell_type": "code",
   "execution_count": 4,
   "metadata": {},
   "outputs": [
    {
     "data": {
      "text/plain": [
       "8"
      ]
     },
     "execution_count": 4,
     "metadata": {},
     "output_type": "execute_result"
    }
   ],
   "source": [
    "kamodo.f(3)"
   ]
  },
  {
   "cell_type": "markdown",
   "metadata": {},
   "source": [
    "where the return type is a numpy array. We could also have passed in a numpy array and the result shares the same shape:"
   ]
  },
  {
   "cell_type": "code",
   "execution_count": 5,
   "metadata": {},
   "outputs": [],
   "source": [
    "import numpy as np\n",
    "t = np.linspace(-5, 5, 100000)\n",
    "result = kamodo.f(t)"
   ]
  },
  {
   "cell_type": "code",
   "execution_count": 6,
   "metadata": {},
   "outputs": [],
   "source": [
    "assert(t.shape == result.shape)"
   ]
  },
  {
   "cell_type": "markdown",
   "metadata": {},
   "source": [
    "### Unit conversion\n",
    "Kamodo automatically handles unit conversions. Simply declare units on the left-hand-side of expressions using bracket notation."
   ]
  },
  {
   "cell_type": "code",
   "execution_count": 7,
   "metadata": {},
   "outputs": [],
   "source": [
    "kamodo = Kamodo('mass[kg] = x', 'vol[m^3] = y')"
   ]
  },
  {
   "cell_type": "code",
   "execution_count": 8,
   "metadata": {},
   "outputs": [
    {
     "data": {
      "text/latex": [
       "\\begin{equation}\\operatorname{mass}{\\left(x \\right)} [kg] = x\\end{equation}\\begin{equation}\\operatorname{vol}{\\left(y \\right)} [m^3] = y\\end{equation}"
      ],
      "text/plain": [
       "Kamodo([(mass(x), <function _lambdifygenerated(x)>),\n",
       "        (mass, <function _lambdifygenerated(x)>),\n",
       "        (vol(y), <function _lambdifygenerated(y)>),\n",
       "        (vol, <function _lambdifygenerated(y)>)])"
      ]
     },
     "execution_count": 8,
     "metadata": {},
     "output_type": "execute_result"
    }
   ],
   "source": [
    "kamodo"
   ]
  },
  {
   "cell_type": "markdown",
   "metadata": {},
   "source": [
    "Unless specified, Kamodo will assign the units for newly defined variables:"
   ]
  },
  {
   "cell_type": "code",
   "execution_count": 9,
   "metadata": {},
   "outputs": [
    {
     "data": {
      "text/latex": [
       "\\begin{equation}\\operatorname{mass}{\\left(x \\right)} [kg] = x\\end{equation}\\begin{equation}\\operatorname{vol}{\\left(y \\right)} [m^3] = y\\end{equation}\\begin{equation}\\rho{\\left(x,y \\right)} [kilogram/meter**3] = \\frac{\\operatorname{mass}{\\left(x \\right)}}{\\operatorname{vol}{\\left(y \\right)}}\\end{equation}"
      ],
      "text/plain": [
       "Kamodo([(mass(x), <function _lambdifygenerated(x)>),\n",
       "        (mass, <function _lambdifygenerated(x)>),\n",
       "        (vol(y), <function _lambdifygenerated(y)>),\n",
       "        (vol, <function _lambdifygenerated(y)>),\n",
       "        (rho(x, y), <function _lambdifygenerated(x, y)>),\n",
       "        (rho, <function _lambdifygenerated(x, y)>)])"
      ]
     },
     "execution_count": 9,
     "metadata": {},
     "output_type": "execute_result"
    }
   ],
   "source": [
    "kamodo['rho'] = 'mass/vol'\n",
    "kamodo"
   ]
  },
  {
   "cell_type": "markdown",
   "metadata": {},
   "source": [
    "We may override the default behavior by simply naming the our chosen units in the left hand side."
   ]
  },
  {
   "cell_type": "code",
   "execution_count": 10,
   "metadata": {},
   "outputs": [
    {
     "data": {
      "text/latex": [
       "\\begin{equation}\\operatorname{mass}{\\left(x \\right)} [kg] = x\\end{equation}\\begin{equation}\\operatorname{vol}{\\left(y \\right)} [m^3] = y\\end{equation}\\begin{equation}\\rho{\\left(x,y \\right)} [g/cm^3] = \\frac{\\operatorname{mass}{\\left(x \\right)}}{1000 \\operatorname{vol}{\\left(y \\right)}}\\end{equation}"
      ],
      "text/plain": [
       "Kamodo([(mass(x), <function _lambdifygenerated(x)>),\n",
       "        (mass, <function _lambdifygenerated(x)>),\n",
       "        (vol(y), <function _lambdifygenerated(y)>),\n",
       "        (vol, <function _lambdifygenerated(y)>),\n",
       "        (rho(x, y), <function _lambdifygenerated(x, y)>),\n",
       "        (rho, <function _lambdifygenerated(x, y)>)])"
      ]
     },
     "execution_count": 10,
     "metadata": {},
     "output_type": "execute_result"
    }
   ],
   "source": [
    "kamodo['rho[g/cm^3]'] = 'mass/vol'\n",
    "kamodo"
   ]
  },
  {
   "cell_type": "markdown",
   "metadata": {},
   "source": [
    "!!! note\n",
    "    Kamodo will raise an error if the left and right-hand-side units are incompatible."
   ]
  },
  {
   "cell_type": "markdown",
   "metadata": {},
   "source": [
    "Even though generated functions are unitless, the units are clearly displayed on the lhs. We think this is a good trade-off between performance and legibility."
   ]
  },
  {
   "cell_type": "markdown",
   "metadata": {},
   "source": [
    "We can verify that kamodo produces the correct output upon evaluation."
   ]
  },
  {
   "cell_type": "code",
   "execution_count": 11,
   "metadata": {},
   "outputs": [],
   "source": [
    "assert(kamodo.rho(3,8) == (3*1000.)/(8*100**3))"
   ]
  },
  {
   "cell_type": "markdown",
   "metadata": {},
   "source": [
    "### Variable naming conventions\n",
    "Kamodo allows for a wide array of variable names to suite your problem space, including greek, subscripts, superscripts."
   ]
  },
  {
   "cell_type": "code",
   "execution_count": 12,
   "metadata": {},
   "outputs": [
    {
     "data": {
      "text/latex": [
       "\\begin{equation}\\rho{\\left(\\alpha,\\beta,\\gamma \\right)} = \\alpha + \\beta + \\gamma\\end{equation}\\begin{equation}\\vec{r}{\\left(t \\right)} = t\\end{equation}\\begin{equation}\\operatorname{{f}'}{\\left(x \\right)} = x\\end{equation}\\begin{equation}\\vec{x}_{i}{\\left(\\vec{x}_{i-1} \\right)} = \\vec{x}_{i-1} + 1\\end{equation}\\begin{equation}\\operatorname{F^{gravity}}{\\left(G,M,R,m \\right)} = \\frac{G M m}{R^{2}}\\end{equation}"
      ],
      "text/plain": [
       "Kamodo([(rho(ALPHA, BETA, GAMMA),\n",
       "         <function _lambdifygenerated(ALPHA, BETA, GAMMA)>),\n",
       "        (rho, <function _lambdifygenerated(ALPHA, BETA, GAMMA)>),\n",
       "        (rvec(t), <function _lambdifygenerated(t)>),\n",
       "        (rvec, <function _lambdifygenerated(t)>),\n",
       "        (fprime(x), <function _lambdifygenerated(x)>),\n",
       "        (fprime, <function _lambdifygenerated(x)>),\n",
       "        (xvec_i(xvec_iminus1), <function _lambdifygenerated(xvec_iminus1)>),\n",
       "        (xvec_i, <function _lambdifygenerated(xvec_iminus1)>),\n",
       "        (F__gravity(G, M, R, m), <function _lambdifygenerated(G, M, R, m)>),\n",
       "        (F__gravity, <function _lambdifygenerated(G, M, R, m)>)])"
      ]
     },
     "execution_count": 12,
     "metadata": {},
     "output_type": "execute_result"
    }
   ],
   "source": [
    "kamodo = Kamodo(\n",
    "    'rho = ALPHA+BETA+GAMMA',\n",
    "    'rvec = t',\n",
    "    'fprime = x',\n",
    "    'xvec_i = xvec_iminus1 + 1',\n",
    "    'F__gravity = G*M*m/R**2',\n",
    ")\n",
    "kamodo"
   ]
  },
  {
   "cell_type": "markdown",
   "metadata": {},
   "source": [
    "For more details on variable names, see the [Syntax](../Syntax/) section."
   ]
  },
  {
   "cell_type": "markdown",
   "metadata": {},
   "source": [
    "## Kamodofication\n",
    "\n",
    "Many functions can not be written as simple mathematical expressions - they could represent simulation output or observational data. For this reason, we provide a ```@kamodofy``` decorator, which turns any callable function into a kamodo-compatible variable and adds metadata that enables unit conversion."
   ]
  },
  {
   "cell_type": "code",
   "execution_count": 13,
   "metadata": {},
   "outputs": [
    {
     "data": {
      "text/latex": [
       "\\begin{equation}\\rho{\\left(x,y \\right)} [kg/m^3] = \\lambda{\\left(x,y \\right)}\\end{equation}\\begin{equation}\\operatorname{den}{\\left(x,y \\right)} [g/cm^3] = \\frac{\\rho{\\left(x,y \\right)}}{1000}\\end{equation}"
      ],
      "text/plain": [
       "Kamodo([(rho(x, y),\n",
       "         <function __main__.rho(x=array([3, 4, 5]), y=array([1, 2, 3]))>),\n",
       "        (rho, <function __main__.rho(x=array([3, 4, 5]), y=array([1, 2, 3]))>),\n",
       "        (den(x, y), <function _lambdifygenerated(x, y)>),\n",
       "        (den, <function _lambdifygenerated(x, y)>)])"
      ]
     },
     "execution_count": 13,
     "metadata": {},
     "output_type": "execute_result"
    }
   ],
   "source": [
    "from kamodo import kamodofy, Kamodo\n",
    "import numpy as np\n",
    "\n",
    "@kamodofy(units = 'kg/m^3', citation = 'Pembroke et. al, 2018')\n",
    "def rho(x = np.array([3,4,5]), y = np.array([1,2,3])):\n",
    "    \"\"\"A function that computes density\"\"\"\n",
    "    return x+y\n",
    "\n",
    "kamodo = Kamodo(rho = rho)\n",
    "kamodo['den[g/cm^3]'] = 'rho'\n",
    "kamodo"
   ]
  },
  {
   "cell_type": "code",
   "execution_count": 14,
   "metadata": {},
   "outputs": [
    {
     "data": {
      "text/latex": [
       "$\\rho{\\left(x,y \\right)} = \\lambda{\\left(x,y \\right)}$"
      ],
      "text/plain": [
       "<function __main__.rho(x=array([3, 4, 5]), y=array([1, 2, 3]))>"
      ]
     },
     "execution_count": 14,
     "metadata": {},
     "output_type": "execute_result"
    }
   ],
   "source": [
    "kamodo.rho"
   ]
  },
  {
   "cell_type": "code",
   "execution_count": 15,
   "metadata": {},
   "outputs": [
    {
     "data": {
      "text/plain": [
       "0.007"
      ]
     },
     "execution_count": 15,
     "metadata": {},
     "output_type": "execute_result"
    }
   ],
   "source": [
    "kamodo.den(3,4)"
   ]
  },
  {
   "cell_type": "code",
   "execution_count": 16,
   "metadata": {},
   "outputs": [
    {
     "data": {
      "text/plain": [
       "{'units': 'kg/m^3',\n",
       " 'citation': 'Pembroke et. al, 2018',\n",
       " 'equation': None,\n",
       " 'hidden_args': []}"
      ]
     },
     "execution_count": 16,
     "metadata": {},
     "output_type": "execute_result"
    }
   ],
   "source": [
    "kamodo.rho.meta # PyHC standard"
   ]
  },
  {
   "cell_type": "code",
   "execution_count": 17,
   "metadata": {},
   "outputs": [
    {
     "data": {
      "text/plain": [
       "array([4, 6, 8])"
      ]
     },
     "execution_count": 17,
     "metadata": {},
     "output_type": "execute_result"
    }
   ],
   "source": [
    "kamodo.rho.data # PyHC standard"
   ]
  },
  {
   "cell_type": "markdown",
   "metadata": {},
   "source": [
    "Original function doc strings and signatures passed through"
   ]
  },
  {
   "cell_type": "code",
   "execution_count": 18,
   "metadata": {},
   "outputs": [
    {
     "name": "stdout",
     "output_type": "stream",
     "text": [
      "Help on function rho in module __main__:\n",
      "\n",
      "rho(x=array([3, 4, 5]), y=array([1, 2, 3]))\n",
      "    A function that computes density\n",
      "    \n",
      "    citation: Pembroke et. al, 2018\n",
      "\n"
     ]
    }
   ],
   "source": [
    "help(kamodo.rho)"
   ]
  },
  {
   "cell_type": "code",
   "execution_count": 19,
   "metadata": {},
   "outputs": [
    {
     "data": {
      "text/html": [
       "<div>\n",
       "<style scoped>\n",
       "    .dataframe tbody tr th:only-of-type {\n",
       "        vertical-align: middle;\n",
       "    }\n",
       "\n",
       "    .dataframe tbody tr th {\n",
       "        vertical-align: top;\n",
       "    }\n",
       "\n",
       "    .dataframe thead th {\n",
       "        text-align: right;\n",
       "    }\n",
       "</style>\n",
       "<table border=\"1\" class=\"dataframe\">\n",
       "  <thead>\n",
       "    <tr style=\"text-align: right;\">\n",
       "      <th></th>\n",
       "      <th>lhs</th>\n",
       "      <th>rhs</th>\n",
       "      <th>symbol</th>\n",
       "      <th>units</th>\n",
       "    </tr>\n",
       "  </thead>\n",
       "  <tbody>\n",
       "    <tr>\n",
       "      <th>rho(x, y)</th>\n",
       "      <td>rho</td>\n",
       "      <td>None</td>\n",
       "      <td>rho(x, y)</td>\n",
       "      <td>kg/m^3</td>\n",
       "    </tr>\n",
       "    <tr>\n",
       "      <th>den(x, y)</th>\n",
       "      <td>den</td>\n",
       "      <td>rho(x, y)/1000</td>\n",
       "      <td>den(x, y)</td>\n",
       "      <td>g/cm^3</td>\n",
       "    </tr>\n",
       "  </tbody>\n",
       "</table>\n",
       "</div>"
      ],
      "text/plain": [
       "           lhs             rhs     symbol   units\n",
       "rho(x, y)  rho            None  rho(x, y)  kg/m^3\n",
       "den(x, y)  den  rho(x, y)/1000  den(x, y)  g/cm^3"
      ]
     },
     "execution_count": 19,
     "metadata": {},
     "output_type": "execute_result"
    }
   ],
   "source": [
    "kamodo.detail()"
   ]
  },
  {
   "cell_type": "markdown",
   "metadata": {},
   "source": [
    "# Visualization\n",
    "\n",
    "Kamodo graphs are generated directly from function signatures by examining the structure of both output and input arguments. "
   ]
  },
  {
   "cell_type": "code",
   "execution_count": 20,
   "metadata": {
    "scrolled": true
   },
   "outputs": [
    {
     "data": {
      "text/html": [
       "<div>\n",
       "<style scoped>\n",
       "    .dataframe tbody tr th:only-of-type {\n",
       "        vertical-align: middle;\n",
       "    }\n",
       "\n",
       "    .dataframe tbody tr th {\n",
       "        vertical-align: top;\n",
       "    }\n",
       "\n",
       "    .dataframe thead th {\n",
       "        text-align: right;\n",
       "    }\n",
       "</style>\n",
       "<table border=\"1\" class=\"dataframe\">\n",
       "  <thead>\n",
       "    <tr style=\"text-align: right;\">\n",
       "      <th></th>\n",
       "      <th></th>\n",
       "      <th>plot_type</th>\n",
       "      <th>function</th>\n",
       "    </tr>\n",
       "    <tr>\n",
       "      <th>out_shape</th>\n",
       "      <th>arg_shapes</th>\n",
       "      <th></th>\n",
       "      <th></th>\n",
       "    </tr>\n",
       "  </thead>\n",
       "  <tbody>\n",
       "    <tr>\n",
       "      <th>(1,)</th>\n",
       "      <th>((N, M), (N, M), (N, M))</th>\n",
       "      <td>3d-parametric</td>\n",
       "      <td>&lt;function surface at 0x12f27f620&gt;</td>\n",
       "    </tr>\n",
       "    <tr>\n",
       "      <th rowspan=\"2\" valign=\"top\">(N,)</th>\n",
       "      <th>((N,),)</th>\n",
       "      <td>1d-line</td>\n",
       "      <td>&lt;function line_plot at 0x11e265950&gt;</td>\n",
       "    </tr>\n",
       "    <tr>\n",
       "      <th>((N,), (N,), (N,))</th>\n",
       "      <td>3d-line-scalar</td>\n",
       "      <td>&lt;function line_plot at 0x11e265950&gt;</td>\n",
       "    </tr>\n",
       "    <tr>\n",
       "      <th rowspan=\"2\" valign=\"top\">(N, 2)</th>\n",
       "      <th>((N,),)</th>\n",
       "      <td>2d-line</td>\n",
       "      <td>&lt;function line_plot at 0x11e265950&gt;</td>\n",
       "    </tr>\n",
       "    <tr>\n",
       "      <th>((N, 2),)</th>\n",
       "      <td>2d-vector</td>\n",
       "      <td>&lt;function vector_plot at 0x12f27f400&gt;</td>\n",
       "    </tr>\n",
       "    <tr>\n",
       "      <th rowspan=\"2\" valign=\"top\">(N, 3)</th>\n",
       "      <th>((N,),)</th>\n",
       "      <td>3d-line</td>\n",
       "      <td>&lt;function line_plot at 0x11e265950&gt;</td>\n",
       "    </tr>\n",
       "    <tr>\n",
       "      <th>((N, 3),)</th>\n",
       "      <td>3d-vector</td>\n",
       "      <td>&lt;function vector_plot at 0x12f27f400&gt;</td>\n",
       "    </tr>\n",
       "    <tr>\n",
       "      <th rowspan=\"6\" valign=\"top\">(N, M)</th>\n",
       "      <th>((N,), (M,))</th>\n",
       "      <td>2d-contour</td>\n",
       "      <td>&lt;function contour_plot at 0x12f27f488&gt;</td>\n",
       "    </tr>\n",
       "    <tr>\n",
       "      <th>((N, M), (N, M))</th>\n",
       "      <td>2d-contour-skew</td>\n",
       "      <td>&lt;function contour_plot at 0x12f27f488&gt;</td>\n",
       "    </tr>\n",
       "    <tr>\n",
       "      <th>((N, M), (N, M), (N, M))</th>\n",
       "      <td>3d-parametric-scalar</td>\n",
       "      <td>&lt;function surface at 0x12f27f620&gt;</td>\n",
       "    </tr>\n",
       "    <tr>\n",
       "      <th>((1,), (N, M), (N, M))</th>\n",
       "      <td>3d-plane</td>\n",
       "      <td>&lt;function plane at 0x12f27f598&gt;</td>\n",
       "    </tr>\n",
       "    <tr>\n",
       "      <th>((N, M), (1,), (N, M))</th>\n",
       "      <td>3d-plane</td>\n",
       "      <td>&lt;function plane at 0x12f27f598&gt;</td>\n",
       "    </tr>\n",
       "    <tr>\n",
       "      <th>((N, M), (N, M), (1,))</th>\n",
       "      <td>3d-plane</td>\n",
       "      <td>&lt;function plane at 0x12f27f598&gt;</td>\n",
       "    </tr>\n",
       "    <tr>\n",
       "      <th rowspan=\"3\" valign=\"top\">(N, M, 1)</th>\n",
       "      <th>((1,), (N,), (M,))</th>\n",
       "      <td>3d-plane</td>\n",
       "      <td>&lt;function plane at 0x12f27f598&gt;</td>\n",
       "    </tr>\n",
       "    <tr>\n",
       "      <th>((N,), (1,), (M,))</th>\n",
       "      <td>3d-plane</td>\n",
       "      <td>&lt;function plane at 0x12f27f598&gt;</td>\n",
       "    </tr>\n",
       "    <tr>\n",
       "      <th>((N,), (M,), (1,))</th>\n",
       "      <td>3d-plane</td>\n",
       "      <td>&lt;function plane at 0x12f27f598&gt;</td>\n",
       "    </tr>\n",
       "  </tbody>\n",
       "</table>\n",
       "</div>"
      ],
      "text/plain": [
       "                                               plot_type  \\\n",
       "out_shape arg_shapes                                       \n",
       "(1,)      ((N, M), (N, M), (N, M))         3d-parametric   \n",
       "(N,)      ((N,),)                                1d-line   \n",
       "          ((N,), (N,), (N,))              3d-line-scalar   \n",
       "(N, 2)    ((N,),)                                2d-line   \n",
       "          ((N, 2),)                            2d-vector   \n",
       "(N, 3)    ((N,),)                                3d-line   \n",
       "          ((N, 3),)                            3d-vector   \n",
       "(N, M)    ((N,), (M,))                        2d-contour   \n",
       "          ((N, M), (N, M))               2d-contour-skew   \n",
       "          ((N, M), (N, M), (N, M))  3d-parametric-scalar   \n",
       "          ((1,), (N, M), (N, M))                3d-plane   \n",
       "          ((N, M), (1,), (N, M))                3d-plane   \n",
       "          ((N, M), (N, M), (1,))                3d-plane   \n",
       "(N, M, 1) ((1,), (N,), (M,))                    3d-plane   \n",
       "          ((N,), (1,), (M,))                    3d-plane   \n",
       "          ((N,), (M,), (1,))                    3d-plane   \n",
       "\n",
       "                                                                  function  \n",
       "out_shape arg_shapes                                                        \n",
       "(1,)      ((N, M), (N, M), (N, M))       <function surface at 0x12f27f620>  \n",
       "(N,)      ((N,),)                      <function line_plot at 0x11e265950>  \n",
       "          ((N,), (N,), (N,))           <function line_plot at 0x11e265950>  \n",
       "(N, 2)    ((N,),)                      <function line_plot at 0x11e265950>  \n",
       "          ((N, 2),)                  <function vector_plot at 0x12f27f400>  \n",
       "(N, 3)    ((N,),)                      <function line_plot at 0x11e265950>  \n",
       "          ((N, 3),)                  <function vector_plot at 0x12f27f400>  \n",
       "(N, M)    ((N,), (M,))              <function contour_plot at 0x12f27f488>  \n",
       "          ((N, M), (N, M))          <function contour_plot at 0x12f27f488>  \n",
       "          ((N, M), (N, M), (N, M))       <function surface at 0x12f27f620>  \n",
       "          ((1,), (N, M), (N, M))           <function plane at 0x12f27f598>  \n",
       "          ((N, M), (1,), (N, M))           <function plane at 0x12f27f598>  \n",
       "          ((N, M), (N, M), (1,))           <function plane at 0x12f27f598>  \n",
       "(N, M, 1) ((1,), (N,), (M,))               <function plane at 0x12f27f598>  \n",
       "          ((N,), (1,), (M,))               <function plane at 0x12f27f598>  \n",
       "          ((N,), (M,), (1,))               <function plane at 0x12f27f598>  "
      ]
     },
     "execution_count": 20,
     "metadata": {},
     "output_type": "execute_result"
    }
   ],
   "source": [
    "from plotting import plot_types\n",
    "plot_types"
   ]
  },
  {
   "cell_type": "markdown",
   "metadata": {},
   "source": [
    "Kamodo uses [plotly](https://plot.ly/python/) for visualization, enabling a rich array of interactive graphs and easy web deployment."
   ]
  },
  {
   "cell_type": "code",
   "execution_count": 21,
   "metadata": {},
   "outputs": [
    {
     "data": {
      "text/html": [
       "        <script type=\"text/javascript\">\n",
       "        window.PlotlyConfig = {MathJaxConfig: 'local'};\n",
       "        if (window.MathJax) {MathJax.Hub.Config({SVG: {font: \"STIX-Web\"}});}\n",
       "        if (typeof require !== 'undefined') {\n",
       "        require.undef(\"plotly\");\n",
       "        requirejs.config({\n",
       "            paths: {\n",
       "                'plotly': ['https://cdn.plot.ly/plotly-latest.min']\n",
       "            }\n",
       "        });\n",
       "        require(['plotly'], function(Plotly) {\n",
       "            window._Plotly = Plotly;\n",
       "        });\n",
       "        }\n",
       "        </script>\n",
       "        "
      ]
     },
     "metadata": {},
     "output_type": "display_data"
    }
   ],
   "source": [
    "import plotly.io as pio\n",
    "from plotly.offline import iplot,plot, init_notebook_mode\n",
    "init_notebook_mode(connected=True)"
   ]
  },
  {
   "cell_type": "code",
   "execution_count": 22,
   "metadata": {},
   "outputs": [
    {
     "data": {
      "text/latex": [
       "\\begin{equation}\\rho{\\left(x,y \\right)} [kg/m^3] = \\lambda{\\left(x,y \\right)}\\end{equation}"
      ],
      "text/plain": [
       "Kamodo([(rho(x, y),\n",
       "         <function __main__.rho(x=array([0.        , 0.05263158, 0.10526316, 0.15789474, 0.21052632,\n",
       "       0.26315789, 0.31578947, 0.36842105, 0.42105263, 0.47368421,\n",
       "       0.52631579, 0.57894737, 0.63157895, 0.68421053, 0.73684211,\n",
       "       0.78947368, 0.84210526, 0.89473684, 0.94736842, 1.        ]), y=array([-1.        , -0.94871795, -0.8974359 , -0.84615385, -0.79487179,\n",
       "       -0.74358974, -0.69230769, -0.64102564, -0.58974359, -0.53846154,\n",
       "       -0.48717949, -0.43589744, -0.38461538, -0.33333333, -0.28205128,\n",
       "       -0.23076923, -0.17948718, -0.12820513, -0.07692308, -0.02564103,\n",
       "        0.02564103,  0.07692308,  0.12820513,  0.17948718,  0.23076923,\n",
       "        0.28205128,  0.33333333,  0.38461538,  0.43589744,  0.48717949,\n",
       "        0.53846154,  0.58974359,  0.64102564,  0.69230769,  0.74358974,\n",
       "        0.79487179,  0.84615385,  0.8974359 ,  0.94871795,  1.        ]))>),\n",
       "        (rho,\n",
       "         <function __main__.rho(x=array([0.        , 0.05263158, 0.10526316, 0.15789474, 0.21052632,\n",
       "       0.26315789, 0.31578947, 0.36842105, 0.42105263, 0.47368421,\n",
       "       0.52631579, 0.57894737, 0.63157895, 0.68421053, 0.73684211,\n",
       "       0.78947368, 0.84210526, 0.89473684, 0.94736842, 1.        ]), y=array([-1.        , -0.94871795, -0.8974359 , -0.84615385, -0.79487179,\n",
       "       -0.74358974, -0.69230769, -0.64102564, -0.58974359, -0.53846154,\n",
       "       -0.48717949, -0.43589744, -0.38461538, -0.33333333, -0.28205128,\n",
       "       -0.23076923, -0.17948718, -0.12820513, -0.07692308, -0.02564103,\n",
       "        0.02564103,  0.07692308,  0.12820513,  0.17948718,  0.23076923,\n",
       "        0.28205128,  0.33333333,  0.38461538,  0.43589744,  0.48717949,\n",
       "        0.53846154,  0.58974359,  0.64102564,  0.69230769,  0.74358974,\n",
       "        0.79487179,  0.84615385,  0.8974359 ,  0.94871795,  1.        ]))>)])"
      ]
     },
     "execution_count": 22,
     "metadata": {},
     "output_type": "execute_result"
    }
   ],
   "source": [
    "@kamodofy(units = 'kg/m^3')\n",
    "def rho(x = np.linspace(0,1, 20), y = np.linspace(-1, 1, 40)):\n",
    "    \"\"\"A function that computes density\"\"\"\n",
    "    x_, y_ = np.meshgrid(x,y)\n",
    "    return x_*y_\n",
    "\n",
    "kamodo = Kamodo(rho = rho)\n",
    "kamodo"
   ]
  },
  {
   "cell_type": "markdown",
   "metadata": {},
   "source": [
    "We will generate an image of this function using plotly"
   ]
  },
  {
   "cell_type": "code",
   "execution_count": 23,
   "metadata": {},
   "outputs": [],
   "source": [
    "fig = kamodo.plot('rho')\n",
    "pio.write_image(fig, 'images/Kamodo_fig1.svg')"
   ]
  },
  {
   "cell_type": "markdown",
   "metadata": {},
   "source": [
    "![fig1](images/Kamodo_fig1.svg)"
   ]
  },
  {
   "cell_type": "markdown",
   "metadata": {},
   "source": [
    "See the [Visualization](../Visualization/) section for detailed examples."
   ]
  },
  {
   "cell_type": "markdown",
   "metadata": {},
   "source": [
    "## Latex I/O\n",
    "\n",
    "Even though math is the language of physics, most scientific analysis software requires you to learn new programing languages. Kamodo allows users to write their mathematical expressions in LaTeX, a typesetting language most scientists already know:"
   ]
  },
  {
   "cell_type": "code",
   "execution_count": 24,
   "metadata": {},
   "outputs": [
    {
     "data": {
      "text/latex": [
       "\\begin{equation}\\rho{\\left(x \\right)} [kg/m^3] = x^{3}\\end{equation}\\begin{equation}v{\\left(y \\right)} [cm/s] = y^{2}\\end{equation}\\begin{equation}p{\\left(x,y \\right)} [Pa] = \\frac{\\rho{\\left(x \\right)} v^{2}{\\left(y \\right)}}{10000}\\end{equation}"
      ],
      "text/plain": [
       "Kamodo([(rho(x), <function _lambdifygenerated(x)>),\n",
       "        (rho, <function _lambdifygenerated(x)>),\n",
       "        (v(y), <function _lambdifygenerated(y)>),\n",
       "        (v, <function _lambdifygenerated(y)>),\n",
       "        (p(x, y), <function _lambdifygenerated(x, y)>),\n",
       "        (p, <function _lambdifygenerated(x, y)>)])"
      ]
     },
     "execution_count": 24,
     "metadata": {},
     "output_type": "execute_result"
    }
   ],
   "source": [
    "kamodo = Kamodo('$rho[kg/m^3] = x^3$', '$v[cm/s] = y^2$')\n",
    "kamodo['p[Pa]'] = '$\\\\rho v^2$'\n",
    "kamodo"
   ]
  },
  {
   "cell_type": "markdown",
   "metadata": {},
   "source": [
    "The resulting equation set may also be exported as a LaTeX string for use in publications:"
   ]
  },
  {
   "cell_type": "code",
   "execution_count": 25,
   "metadata": {},
   "outputs": [
    {
     "name": "stdout",
     "output_type": "stream",
     "text": [
      "\\begin{equation}\\rho{\\left(x \\right)} [kg/m^3] = x^{3}\\end{equation}\\begin{equation}v{\\left(y \\right)} [cm/s] = y^{2}\\end{equation}\\begin{equation}p{\\left(x,y \\right)} [Pa] = \\frac{\\rho{\\left(x \\right)} v^{2}{\\left(y \\right)}}{10000}\\end{equation}\n",
      ".\n"
     ]
    }
   ],
   "source": [
    "print(kamodo.to_latex() + '\\n.')"
   ]
  },
  {
   "cell_type": "markdown",
   "metadata": {},
   "source": [
    "# Simulation api\n",
    "\n",
    "Kamodo offers a simple api for functions composed of each other.\n",
    "\n",
    "Define variables as usual (order matters)."
   ]
  },
  {
   "cell_type": "code",
   "execution_count": 26,
   "metadata": {},
   "outputs": [
    {
     "data": {
      "text/latex": [
       "\\begin{equation}\\operatorname{y_{i+1}}{\\left(x_{i} \\right)} = x_{i} + 1\\end{equation}\\begin{equation}\\operatorname{x_{i+1}}{\\left(y_{i} \\right)} = y_{i} - 2\\end{equation}"
      ],
      "text/plain": [
       "Kamodo([(y_iplus1(x_i), <function _lambdifygenerated(x_i)>),\n",
       "        (y_iplus1, <function _lambdifygenerated(x_i)>),\n",
       "        (x_iplus1(y_i), <function _lambdifygenerated(y_i)>),\n",
       "        (x_iplus1, <function _lambdifygenerated(y_i)>)])"
      ]
     },
     "execution_count": 26,
     "metadata": {},
     "output_type": "execute_result"
    }
   ],
   "source": [
    "kamodo = Kamodo()\n",
    "kamodo['y_iplus1'] = 'x_i + 1'\n",
    "kamodo['x_iplus1'] = 'y_i - 2'\n",
    "kamodo"
   ]
  },
  {
   "cell_type": "markdown",
   "metadata": {},
   "source": [
    "Now add the ```update``` attribute to map functions onto arguments."
   ]
  },
  {
   "cell_type": "code",
   "execution_count": 27,
   "metadata": {},
   "outputs": [],
   "source": [
    "kamodo.x_iplus1.update = 'x_i'\n",
    "kamodo.y_iplus1.update = 'y_i'"
   ]
  },
  {
   "cell_type": "markdown",
   "metadata": {},
   "source": [
    "Create a simulation with initial conditions"
   ]
  },
  {
   "cell_type": "code",
   "execution_count": 28,
   "metadata": {},
   "outputs": [
    {
     "data": {
      "text/plain": [
       "<generator object simulate at 0x12fdd5a98>"
      ]
     },
     "execution_count": 28,
     "metadata": {},
     "output_type": "execute_result"
    }
   ],
   "source": [
    "simulation = kamodo.simulate(x_i = 0, steps = 5)\n",
    "simulation #an iterator of arg, val dictionaries"
   ]
  },
  {
   "cell_type": "markdown",
   "metadata": {},
   "source": [
    "Run the simulation by iterating through the generator."
   ]
  },
  {
   "cell_type": "code",
   "execution_count": 29,
   "metadata": {},
   "outputs": [
    {
     "data": {
      "text/html": [
       "<div>\n",
       "<style scoped>\n",
       "    .dataframe tbody tr th:only-of-type {\n",
       "        vertical-align: middle;\n",
       "    }\n",
       "\n",
       "    .dataframe tbody tr th {\n",
       "        vertical-align: top;\n",
       "    }\n",
       "\n",
       "    .dataframe thead th {\n",
       "        text-align: right;\n",
       "    }\n",
       "</style>\n",
       "<table border=\"1\" class=\"dataframe\">\n",
       "  <thead>\n",
       "    <tr style=\"text-align: right;\">\n",
       "      <th></th>\n",
       "      <th>y_i</th>\n",
       "      <th>x_i</th>\n",
       "    </tr>\n",
       "  </thead>\n",
       "  <tbody>\n",
       "    <tr>\n",
       "      <th>0</th>\n",
       "      <td>NaN</td>\n",
       "      <td>0</td>\n",
       "    </tr>\n",
       "    <tr>\n",
       "      <th>1</th>\n",
       "      <td>1.0</td>\n",
       "      <td>-1</td>\n",
       "    </tr>\n",
       "    <tr>\n",
       "      <th>2</th>\n",
       "      <td>0.0</td>\n",
       "      <td>-2</td>\n",
       "    </tr>\n",
       "    <tr>\n",
       "      <th>3</th>\n",
       "      <td>-1.0</td>\n",
       "      <td>-3</td>\n",
       "    </tr>\n",
       "    <tr>\n",
       "      <th>4</th>\n",
       "      <td>-2.0</td>\n",
       "      <td>-4</td>\n",
       "    </tr>\n",
       "    <tr>\n",
       "      <th>5</th>\n",
       "      <td>-3.0</td>\n",
       "      <td>-5</td>\n",
       "    </tr>\n",
       "  </tbody>\n",
       "</table>\n",
       "</div>"
      ],
      "text/plain": [
       "   y_i  x_i\n",
       "0  NaN    0\n",
       "1  1.0   -1\n",
       "2  0.0   -2\n",
       "3 -1.0   -3\n",
       "4 -2.0   -4\n",
       "5 -3.0   -5"
      ]
     },
     "execution_count": 29,
     "metadata": {},
     "output_type": "execute_result"
    }
   ],
   "source": [
    "import pandas as pd\n",
    "pd.DataFrame(simulation) # pandas conveniently iterates the results for display"
   ]
  }
 ],
 "metadata": {
  "kernelspec": {
   "display_name": "Python 3",
   "language": "python",
   "name": "python3"
  },
  "language_info": {
   "codemirror_mode": {
    "name": "ipython",
    "version": 3
   },
   "file_extension": ".py",
   "mimetype": "text/x-python",
   "name": "python",
   "nbconvert_exporter": "python",
   "pygments_lexer": "ipython3",
   "version": "3.7.3"
  }
 },
 "nbformat": 4,
 "nbformat_minor": 2
}
